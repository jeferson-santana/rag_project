{
 "cells": [
  {
   "cell_type": "markdown",
   "metadata": {},
   "source": [
    "# Importar as bibliotecas necessárias"
   ]
  },
  {
   "cell_type": "code",
   "execution_count": 2,
   "metadata": {},
   "outputs": [],
   "source": [
    "import pandas as pd\n",
    "import re\n",
    "import nltk\n",
    "from nltk.corpus import stopwords\n",
    "from nltk.translate.bleu_score import sentence_bleu, SmoothingFunction\n",
    "from sentence_transformers import SentenceTransformer\n",
    "import numpy as np\n",
    "import faiss\n",
    "from sentence_transformers import util\n",
    "from transformers import T5Tokenizer, T5ForConditionalGeneration\n",
    "import os\n",
    "from rouge_score import rouge_scorer\n",
    "import warnings\n",
    "warnings.filterwarnings(\"ignore\", category=UserWarning, module=\"transformers\")"
   ]
  },
  {
   "cell_type": "markdown",
   "metadata": {},
   "source": [
    "# Parâmetros"
   ]
  },
  {
   "cell_type": "code",
   "execution_count": 3,
   "metadata": {},
   "outputs": [],
   "source": [
    "# Número máximo de respostas similares retornadas na busca semântica\n",
    "top_k = 5  \n",
    "\n",
    "# Similaridade mínima para considerar uma resposta relevante\n",
    "# (garante que apenas textos realmente próximos sejam considerados)\n",
    "similarity_threshold = 0.6  \n",
    "\n",
    "# Limite mínimo para validar se a resposta está dentro do contexto esperado\n",
    "# (descarta respostas que tenham pouca relação com a pergunta)\n",
    "min_context_threshold = 0.3  \n",
    "\n",
    "# Peso atribuído à similaridade entre o conteúdo do artigo e a pergunta\n",
    "# (prioriza a correspondência com o corpo do texto)\n",
    "content_similarity_weight = 0.6  \n",
    "\n",
    "# Peso atribuído à similaridade entre o título do artigo e a pergunta\n",
    "# (ajuda a dar relevância ao título na busca por respostas)\n",
    "title_similarity_weight = 0.4  \n",
    "\n",
    "# Definir limiares duplos para filtrar respostas inadequadas\n",
    "\n",
    "# Limiar crítico: perguntas abaixo desse valor são consideradas fora do escopo\n",
    "critical_threshold = 0.3  \n",
    "\n",
    "# Similaridade mínima para considerar uma resposta da FAQ válida\n",
    "# (usado na decisão final para recuperar um artigo)\n",
    "similarity_threshold_faq = 0.55  "
   ]
  },
  {
   "cell_type": "markdown",
   "metadata": {},
   "source": [
    "# Leitura dos dados"
   ]
  },
  {
   "cell_type": "code",
   "execution_count": 4,
   "metadata": {},
   "outputs": [
    {
     "data": {
      "text/html": [
       "<div>\n",
       "<style scoped>\n",
       "    .dataframe tbody tr th:only-of-type {\n",
       "        vertical-align: middle;\n",
       "    }\n",
       "\n",
       "    .dataframe tbody tr th {\n",
       "        vertical-align: top;\n",
       "    }\n",
       "\n",
       "    .dataframe thead th {\n",
       "        text-align: right;\n",
       "    }\n",
       "</style>\n",
       "<table border=\"1\" class=\"dataframe\">\n",
       "  <thead>\n",
       "    <tr style=\"text-align: right;\">\n",
       "      <th></th>\n",
       "      <th>article_name</th>\n",
       "      <th>article_url</th>\n",
       "      <th>article_content</th>\n",
       "    </tr>\n",
       "  </thead>\n",
       "  <tbody>\n",
       "    <tr>\n",
       "      <th>0</th>\n",
       "      <td>Como usar o Recuperador Automático de Vendas?</td>\n",
       "      <td>https://help.hotmart.com/pt-BR/article/como-us...</td>\n",
       "      <td>Como usar o Recuperador Automático de Vendas?\\...</td>\n",
       "    </tr>\n",
       "    <tr>\n",
       "      <th>1</th>\n",
       "      <td>Como agendar uma publicação em comunidades do ...</td>\n",
       "      <td>https://help.hotmart.com/pt-BR/article/como-ag...</td>\n",
       "      <td>Como agendar uma publicação em comunidades do ...</td>\n",
       "    </tr>\n",
       "    <tr>\n",
       "      <th>2</th>\n",
       "      <td>Como configurar o pixel da Taboola</td>\n",
       "      <td>https://help.hotmart.com/pt-BR/article/como-co...</td>\n",
       "      <td>Como configurar o pixel da Taboola\\n\\n[Taboola...</td>\n",
       "    </tr>\n",
       "    <tr>\n",
       "      <th>3</th>\n",
       "      <td>Como navegar pelo app da Hotmart</td>\n",
       "      <td>https://help.hotmart.com/pt-BR/article/como-na...</td>\n",
       "      <td>Como navegar pelo app da Hotmart\\n\\nO app da H...</td>\n",
       "    </tr>\n",
       "    <tr>\n",
       "      <th>4</th>\n",
       "      <td>O que são parâmetros de campanha?</td>\n",
       "      <td>https://help.hotmart.com/pt-BR/article/o-que-s...</td>\n",
       "      <td>O que são parâmetros de campanha?\\n\\nOs parâme...</td>\n",
       "    </tr>\n",
       "  </tbody>\n",
       "</table>\n",
       "</div>"
      ],
      "text/plain": [
       "                                        article_name  \\\n",
       "0      Como usar o Recuperador Automático de Vendas?   \n",
       "1  Como agendar uma publicação em comunidades do ...   \n",
       "2                 Como configurar o pixel da Taboola   \n",
       "3                   Como navegar pelo app da Hotmart   \n",
       "4                  O que são parâmetros de campanha?   \n",
       "\n",
       "                                         article_url  \\\n",
       "0  https://help.hotmart.com/pt-BR/article/como-us...   \n",
       "1  https://help.hotmart.com/pt-BR/article/como-ag...   \n",
       "2  https://help.hotmart.com/pt-BR/article/como-co...   \n",
       "3  https://help.hotmart.com/pt-BR/article/como-na...   \n",
       "4  https://help.hotmart.com/pt-BR/article/o-que-s...   \n",
       "\n",
       "                                     article_content  \n",
       "0  Como usar o Recuperador Automático de Vendas?\\...  \n",
       "1  Como agendar uma publicação em comunidades do ...  \n",
       "2  Como configurar o pixel da Taboola\\n\\n[Taboola...  \n",
       "3  Como navegar pelo app da Hotmart\\n\\nO app da H...  \n",
       "4  O que são parâmetros de campanha?\\n\\nOs parâme...  "
      ]
     },
     "execution_count": 4,
     "metadata": {},
     "output_type": "execute_result"
    }
   ],
   "source": [
    "# Caminho do arquivo\n",
    "file_path = r\"C:\\Users\\Acer\\Downloads\\ProcessoSeletivo[RAG].xlsx\"\n",
    "\n",
    "# Carregar o CSV\n",
    "df = pd.read_excel(file_path)\n",
    "\n",
    "# Verificando as primeiras linhas\n",
    "df.head()"
   ]
  },
  {
   "cell_type": "markdown",
   "metadata": {},
   "source": [
    "# Pré processamento"
   ]
  },
  {
   "cell_type": "code",
   "execution_count": 5,
   "metadata": {},
   "outputs": [],
   "source": [
    "def clean_text(text, query):\n",
    "    \n",
    "    \"\"\"Remove caracteres especiais, tags HTML, repetição da pergunta e elementos indesejados no início da resposta.\"\"\"\n",
    "    text = re.sub(r\"<[^>]+>\", \"\", text)  # Remove tags HTML\n",
    "    text = re.sub(r\"^[^\\w]+\", \"\", text)  # Remove caracteres especiais no início\n",
    "    text = re.sub(r\"\\s+\", \" \", text).strip()  # Remove múltiplos espaços\n",
    "    text = re.sub(r\"={3,}\", \"\", text).strip()  # Remove sequências de \"=\"\n",
    "    text = re.sub(r\"^\\?+\\s*=\\s*\", \"\", text).strip()  # Remove \"? =\"\n",
    "\n",
    "    # Removendo trechos redundantes no início da resposta\n",
    "    query_clean = query.lower().strip(\"?\").strip()\n",
    "    text_clean = text.lower().strip()\n",
    "\n",
    "    if text_clean.startswith(query_clean):\n",
    "        text = text[len(query_clean):].strip()\n",
    "\n",
    "    return text"
   ]
  },
  {
   "cell_type": "code",
   "execution_count": 6,
   "metadata": {},
   "outputs": [],
   "source": [
    "def clean_response(response):\n",
    "    \"\"\"\n",
    "    Remove o texto até o primeiro '?' para evitar repetições da pergunta na resposta.\n",
    "    \"\"\"\n",
    "    response = response.strip()\n",
    "\n",
    "    # Se houver \"?\" na resposta, cortamos tudo até ele\n",
    "    if \"?\" in response:\n",
    "        response = response.split(\"?\", 1)[-1].strip()\n",
    "\n",
    "    return response"
   ]
  },
  {
   "cell_type": "code",
   "execution_count": 8,
   "metadata": {},
   "outputs": [
    {
     "name": "stdout",
     "output_type": "stream",
     "text": [
      "Dimensão dos embeddings: (477, 384)\n"
     ]
    }
   ],
   "source": [
    "# Carregar o modelo de embeddings\n",
    "embedding_model = SentenceTransformer(\"sentence-transformers/all-MiniLM-L6-v2\")\n",
    "\n",
    "# Criar embeddings para os textos da FAQ\n",
    "df[\"embeddings\"] = df[\"article_content\"].apply(lambda x: embedding_model.encode(x, normalize_embeddings=True))\n",
    "\n",
    "# Converter para matriz numpy\n",
    "embeddings_matrix = np.array(df[\"embeddings\"].tolist())\n",
    "\n",
    "# Verificando a dimensão dos embeddings\n",
    "print(\"Dimensão dos embeddings:\", embeddings_matrix.shape)"
   ]
  },
  {
   "cell_type": "code",
   "execution_count": 9,
   "metadata": {},
   "outputs": [
    {
     "name": "stdout",
     "output_type": "stream",
     "text": [
      "Índice FAISS criado com 477 embeddings.\n"
     ]
    }
   ],
   "source": [
    "# Obtém a dimensão dos embeddings\n",
    "dimension = embeddings_matrix.shape[1]\n",
    "\n",
    "# Criando índice FAISS usando a distância L2 (euclidiana)\n",
    "index_cpu = faiss.IndexFlatL2(dimension)\n",
    "\n",
    "# Adicionando os embeddings ao índice\n",
    "index_cpu.add(embeddings_matrix)\n",
    "\n",
    "# Verificando se os embeddings foram indexados corretamente\n",
    "print(f\"Índice FAISS criado com {index_cpu.ntotal} embeddings.\")"
   ]
  },
  {
   "cell_type": "markdown",
   "metadata": {},
   "source": [
    "# Modelagem - RAG"
   ]
  },
  {
   "cell_type": "markdown",
   "metadata": {},
   "source": [
    "## Recuperação da informação"
   ]
  },
  {
   "cell_type": "code",
   "execution_count": 10,
   "metadata": {},
   "outputs": [],
   "source": [
    "def search_faq(query, top_k, similarity_threshold, min_context_threshold, content_similarity_weight, title_similarity_weight, critical_threshold, similarity_threshold_faq):\n",
    "\n",
    "    \"\"\"\n",
    "    Busca uma resposta no FAQ com base na similaridade semântica.\n",
    "    Inclui um filtro para evitar respostas fora do contexto.\n",
    "    \"\"\"\n",
    "\n",
    "    # Criar embedding para a consulta\n",
    "    query_embedding = embedding_model.encode([query], normalize_embeddings=True)\n",
    "\n",
    "    # Buscar no índice FAISS\n",
    "    distances, indices = index_cpu.search(np.array(query_embedding), k=top_k)\n",
    "\n",
    "    # Filtrar apenas índices válidos\n",
    "    valid_results = [(idx, dist) for idx, dist in zip(indices[0], distances[0]) if idx != -1]\n",
    "\n",
    "    if not valid_results:\n",
    "        return None  # Retorna None para indicar que não encontrou resposta relevante\n",
    "\n",
    "    # Comparar a similaridade entre a pergunta e as respostas recuperadas\n",
    "    best_match = None\n",
    "    highest_score = -1\n",
    "\n",
    "    for idx, dist in valid_results:\n",
    "        retrieved_text = df.iloc[idx][\"article_content\"]\n",
    "        article_title = df.iloc[idx][\"article_name\"]\n",
    "\n",
    "        # Similaridade entre a pergunta e o título do artigo\n",
    "        title_similarity = util.cos_sim(\n",
    "                                            embedding_model.encode(query, convert_to_tensor=True),\n",
    "                                            embedding_model.encode(article_title, convert_to_tensor=True)\n",
    "                                        ).item()\n",
    "\n",
    "        # Similaridade entre a pergunta e o conteúdo recuperado\n",
    "        content_similarity = util.cos_sim(\n",
    "                                                embedding_model.encode(query, convert_to_tensor=True),\n",
    "                                                embedding_model.encode(retrieved_text, convert_to_tensor=True)\n",
    "                                          ).item()\n",
    "\n",
    "        # Score final priorizando título + conteúdo\n",
    "        final_score = (content_similarity_weight * content_similarity) + (title_similarity_weight * title_similarity)\n",
    "\n",
    "        # Definir limiares duplos\n",
    "        critical_threshold = critical_threshold  # Perguntas abaixo disso são consideradas fora do escopo\n",
    "        similarity_threshold = similarity_threshold  # Limiar para considerar resposta da FAQ válida\n",
    "\n",
    "        # Adicionar verificação para evitar respostas fora de contexto\n",
    "        if final_score > highest_score and final_score > similarity_threshold:\n",
    "            highest_score = final_score\n",
    "            best_match = idx\n",
    "\n",
    "    # Se nenhuma resposta atingiu um mínimo aceitável, retorna \"fora do escopo\"\n",
    "    if highest_score < critical_threshold:\n",
    "        return \"Desculpe, essa pergunta parece estar fora do escopo da Hotmart.\"\n",
    "\n",
    "    # Se encontrou uma resposta válida, retorna\n",
    "    if best_match is not None and highest_score > min_context_threshold:\n",
    "        return clean_text(df.iloc[best_match][\"article_content\"], query)\n",
    "    \n",
    "    # Se nenhuma resposta for válida, retorna None (indicando que devemos gerar via IA)\n",
    "    return None\n"
   ]
  },
  {
   "cell_type": "markdown",
   "metadata": {},
   "source": [
    "## Generativa"
   ]
  },
  {
   "cell_type": "code",
   "execution_count": 11,
   "metadata": {},
   "outputs": [
    {
     "name": "stderr",
     "output_type": "stream",
     "text": [
      "You are using the default legacy behaviour of the <class 'transformers.models.t5.tokenization_t5.T5Tokenizer'>. This is expected, and simply means that the `legacy` (previous) behavior will be used so nothing changes for you. If you want to use the new behaviour, set `legacy=False`. This should only be set if you understand what it means, and thoroughly read the reason why this was added as explained in https://github.com/huggingface/transformers/pull/24565\n"
     ]
    }
   ],
   "source": [
    " # Desativa avisos sobre links simbólicos no Hugging Face\n",
    "os.environ[\"HF_HUB_DISABLE_SYMLINKS_WARNING\"] = \"1\"\n",
    "\n",
    "\n",
    "# Carregar modelo de geração de texto (FLAN-T5 Small, otimizado para eficiência)\n",
    "model_name = \"google/flan-t5-small\"\n",
    "\n",
    "# Inicializar o tokenizador e o modelo pré-treinado\n",
    "tokenizer = T5Tokenizer.from_pretrained(model_name)\n",
    "generator_model = T5ForConditionalGeneration.from_pretrained(model_name)"
   ]
  },
  {
   "cell_type": "code",
   "execution_count": 12,
   "metadata": {},
   "outputs": [],
   "source": [
    "def generate_response(query, retrieved_text):\n",
    "\n",
    "    \"\"\"\n",
    "    Gera uma resposta usando um modelo T5 baseado no texto recuperado.\n",
    "    \"\"\"\n",
    "\n",
    "    # Construção do prompt, fornecendo o contexto e a pergunta ao modelo\n",
    "    prompt = (\n",
    "                f\"Baseado no seguinte contexto, responda a pergunta de forma curta e objetiva:\\n\"\n",
    "                f\"Contexto: {retrieved_text}\\n\"\n",
    "                f\"Pergunta: {query}\\n\"\n",
    "                f\"Resposta:\"\n",
    "            )\n",
    "    \n",
    "    # Tokenização do prompt para entrada no modelo T5\n",
    "    inputs = tokenizer(prompt, return_tensors=\"pt\", max_length=512, truncation=True)\n",
    "    \n",
    "    # Geração da resposta usando o modelo T5 (máximo de 256 tokens na saída)\n",
    "    output = generator_model.generate(**inputs, max_length=256, num_return_sequences=1)\n",
    "\n",
    "    # Decodificação do resultado gerado para texto legível\n",
    "    response = tokenizer.decode(output[0], skip_special_tokens=True)\n",
    "\n",
    "    return response"
   ]
  },
  {
   "cell_type": "code",
   "execution_count": 13,
   "metadata": {},
   "outputs": [],
   "source": [
    "def process_response(query):\n",
    "    \n",
    "    \"\"\" \n",
    "    Pipeline para buscar, limpar e formatar a resposta.\n",
    "    Primeiro, tenta recuperar a resposta do FAQ. Caso não encontre, aciona a geração via IA.\n",
    "    \"\"\"\n",
    "    # Busca a resposta no FAQ usando a função de recuperação semântica (FAISS + embeddings)\n",
    "    retrieved_response = search_faq(query, top_k, similarity_threshold, min_context_threshold, content_similarity_weight, title_similarity_weight, critical_threshold, similarity_threshold_faq)  # Busca no FAQ\n",
    "\n",
    "    # Se uma resposta válida for encontrada no FAQ, retorna diretamente\n",
    "    if retrieved_response:\n",
    "        return retrieved_response  # Se encontrou resposta válida no FAQ, retorna\n",
    "    \n",
    "    # Caso nenhuma resposta relevante seja encontrada, aciona a geração de texto com IA\n",
    "    return generate_response(query, \"Infelizmente, não há informações disponíveis no FAQ.\")"
   ]
  },
  {
   "cell_type": "markdown",
   "metadata": {},
   "source": [
    "## Testes"
   ]
  },
  {
   "cell_type": "markdown",
   "metadata": {},
   "source": [
    "### Perguntas que temos na base"
   ]
  },
  {
   "cell_type": "code",
   "execution_count": 23,
   "metadata": {},
   "outputs": [],
   "source": [
    "# Lista de perguntas de teste usadas para avaliar a recuperação de respostas do FAQ\n",
    "test_questions_recuperacao_pura = [\n",
    "                                        \"Como reprocessar meu pagamento?\",\n",
    "                                        \"Como acessar o Relatório de Download de Notas Fiscais?\",\n",
    "                                        \"Como encerrar minhas vendas e desabilitar a página de pagamento?\",\n",
    "                                        \"Como liberar o cadastro gratuito do meu produto no Hotmart Club?\",\n",
    "                                        \"Por que recebi um e-mail de verificação depois de fazer uma solicitação na Central de Ajuda?\"\n",
    "                                    ]\n",
    "\n",
    "# Criação de um dicionário onde as perguntas são as chaves e as respostas esperadas (FAQ) são os valores\n",
    "test_questions_generation = {\n",
    "                                # Verifica se a pergunta está contida no título dos artigos do FAQ\n",
    "                                q: df[df['article_name'].str.contains(q, case=False, na=False)]['clean_article_content'].values[0] \n",
    "                                if df['article_name'].str.contains(q, case=False, na=False).any() \n",
    "                                else \"Resposta não encontrada.\"\n",
    "                                for q in test_questions_recuperacao_pura\n",
    "                            }\n",
    "\n",
    "# Ajuste para verificar se há correspondência exata entre as perguntas e os títulos dos artigos\n",
    "for q in test_questions_recuperacao_pura:\n",
    "    matched_rows = df[df['article_name'].str.lower() == q.lower()]# Normaliza para evitar erros de case-sensitive\n",
    "    \n",
    "    if not matched_rows.empty:\n",
    "        # Se encontrar uma correspondência exata no título do artigo, usa a resposta desse artigo\n",
    "        test_questions_generation[q] = matched_rows.iloc[0]['clean_article_content']\n",
    "    else:\n",
    "        # Caso não haja correspondência exata, mantém como \"Resposta não encontrada.\"\n",
    "        test_questions_generation[q] = \"Resposta não encontrada.\""
   ]
  },
  {
   "cell_type": "markdown",
   "metadata": {},
   "source": [
    "### Perguntas que não temos na base"
   ]
  },
  {
   "cell_type": "code",
   "execution_count": 52,
   "metadata": {},
   "outputs": [],
   "source": [
    "test_questions_recuperacao_pura = [    \n",
    "                                        \"Como posso modificar o método de pagamento da minha assinatura?\",\n",
    "                                        \"Quais são os métodos de pagamento disponíveis na Hotmart?\",\n",
    "                                        \"O que é o PIX da Hotmart e como ativá-lo?\",\n",
    "                                        \"Como alterar o idioma na página de pagamento da Hotmart?\",\n",
    "                                        \"Quanto a Hotmart cobra de taxas nas vendas?\",\n",
    "                                    ]\n",
    "\n",
    "test_questions_ajuste_generativo = [    \n",
    "                                    \"Posso pagar com dois cartões de crédito?\",\n",
    "                                    \"Quais são as taxas para produtores na Hotmart?\",\n",
    "                                    \"Como funciona o parcelamento de pagamentos?\",\n",
    "                                    \"Posso oferecer reembolsos na Hotmart?\",\n",
    "                                    \"Como configurar descontos para meus clientes na Hotmart?\",\n",
    "                                ]\n",
    "\n",
    "test_questions_geracao_pura = [    \n",
    "                                    \"A Hotmart aceita criptomoedas como forma de pagamento?\",\n",
    "                                    \"Posso pagar um curso na Hotmart com Apple Pay?\",\n",
    "                                    \"Existe algum benefício para quem paga à vista?\",\n",
    "                                    \"A Hotmart oferece suporte para pagamentos via boleto parcelado?\",\n",
    "                                    \"Quais são as opções para receber pagamentos em diferentes moedas?\"\n",
    "                                ]\n",
    "\n",
    "test_questions_geracao_pura_fora_do_contexto = [    \n",
    "                                                    \"Qual a distância da Terra até a Lua?\",\n",
    "                                                    \"Quem foi o primeiro presidente do Brasil?\",\n",
    "                                                    \"Quem escreveu Dom Quixote?\",\n",
    "                                                    \"Qual é a capital da Islândia?\",\n",
    "                                                    \"Como posso aprender a tocar violão do zero?\"\n",
    "                                                ]"
   ]
  },
  {
   "cell_type": "code",
   "execution_count": null,
   "metadata": {},
   "outputs": [
    {
     "name": "stdout",
     "output_type": "stream",
     "text": [
      "================================================================================\n",
      "Pergunta: Como posso modificar o método de pagamento da minha assinatura?\n",
      "Resposta: = Alterar o método de pagamento da sua assinatura para evitar imprevistos de acesso é muito simples. Com apenas cinco passos, você terá a facilidade de ajustar a configuração de pagamento usada no momento da compra, incluindo a flexibilidade de [alterar a data de cobrança conforme sua necessidade](https://help.hotmart.com/pt-br/article/14718188112781). Isso proporciona a você maior controle sobre o processo, garantindo uma melhor experiência na gestão da sua assinatura. Neste artigo, vamos te ensinar a alterar o método de pagamento conforme a sua necessidade. Para isso, basta seguir os passos indicados abaixo: 1. Acesse . 2. Após fazer o login, selecione Minhas compras no menu à esquerda e clique no produto pelo qual deseja trocar seu método de pagamento. 3. Os detalhes da sua compra serão exibidos e você poderá selecionar a opção Configurar pagamento (ou Regularizar pagamentos pendentes, caso o pagamento esteja atrasado). 4. Uma nova página será aberta, onde se encontra a seção Configurações de pagamento. Para adicionar seu novo método ou cartão, clique na seção Alterar forma de pagamento. 5. Após preencher os detalhes do novo método ou cartão, clique em Salvar. Ao realizar a alteração, ela passará a valer para todas as cobranças futuras. Mas atenção, há algumas regras que podem variar conforme o método de pagamento escolhido: -De cartão crédito para cartão de crédito * Este processo depende da validação de seu banco e pode levar algumas horas para ser concluído. * Em algumas ocasiões, poderá ser cobrada uma taxa temporária em seu cartão, que será reembolsada automaticamente. Essa taxa temporária é um indicador de que a alteração do cartão foi bem-sucedida. -De cartão de crédito para boleto ou PIX (apenas Brasil) * Esta opção não estará disponível para os casos em que o pagamento da recorrência for parcelado em planos bimestrais, trimestrais, semestrais ou anuais. * Caso você tenha feito a adesão da sua assinatura por cartão de crédito e, posteriormente, alterou para PIX ou boleto, será possível efetuar a troca novamente para cartão, reutilizando o último associado àquela assinatura. * A moeda da compra precisa ser real (R$). * Para que a alteração seja possível, o Produtor precisa aceitar o PIX como método de pagamento. -De PIX ou boleto para cartão de crédito * Caso realize a alteração, não será possível parcelar o valor no seu cartão de crédito. -De Saldo Hotmart para boleto ou PIX (apenas Brasil) * A moeda da compra precisa ser real (R$). * Para que a alteração seja possível, o Produtor precisa aceitar o PIX como método de pagamento. -De Saldo Hotmart para cartão de crédito * Esta opção está disponível apenas para o Brasil. -De PIX para boleto ou de boleto para PIX * Neste momento não é possível alterar o método de pagamento de PIX para boleto ou de boleto para PIX.\n",
      "================================================================================ \n",
      "\n",
      "================================================================================\n",
      "Pergunta: Quais são os métodos de pagamento disponíveis na Hotmart?\n",
      "Resposta: Na Hotmart estamos sempre em busca de adaptar nossos serviços para o nível global. Isso inclui oferecer diferentes métodos de pagamento disponíveis na plataforma, fazendo com que a compra seja um processo fácil para todos os compradores, independente de onde estejam localizados. Nossa plataforma disponibiliza mais de 20 métodos de pagamento, alcançando compradores em mais de 180 países. Isso significa que um número cada vez maior de pessoas ao redor do mundo têm acesso aos produtos digitais oferecidos na Hotmart. Neste artigo, vamos detalhar esses métodos para que você possa entender quais opções estão disponíveis, dependendo das configurações definidas pelos Produtores, já que eles são responsáveis por definir quais métodos serão aceitos para seus produtos. Para saber mais sobre, [clique aqui](h_01HTQF1Q4YPYAMCZ65X0D54S43). Para uma navegação mais fluida, dividimos os métodos de pagamento em blocos específicos separados por localidades. Para ser redirecionado para a seção de seu interesse, basta clicar em cima do item da lista a seguir: * [Métodos de pagamento Globais](h_01HTQCJ587MFJFPV3VVP7SC8RK) * [Métodos de pagamento exclusivos do Brasil](01HTQDYTMATPDPR2FXYC2EBSAC) * [Métodos de pagamento exclusivos da América Latina](01HTQE37YPGK6FME9140NV188P) * [Métodos de pagamento exclusivos da América do Norte](01HTQENEBC8DGKZ9NT4995919K) * [Métodos de pagamento exclusivos da Europa](01HTQEV20DZ52VB6RPPHFGZH6J) * [Casos específicos: Argentina e Venezuela](h_01HTQF1J72E8XGKAZHC1SJ1T4S) Importante: Lembre-se que cada país possui taxas específicas que podem ser aplicadas a compras internacionais e de produtos digitais. Para entender as regras de impostos de cada país, consulte o artigo [Quais impostos podem incidir sobre a minha compra?](https://help.hotmart.com/pt-br/article/quais-impostos-podem-incidir-sobre-a-minha-compra-/360051614631) Métodos de pagamento Globais | - Cartão de crédito Um dos métodos de pagamento mais populares e amplamente aceitos. Com ele, os compradores podem realizar pagamentos online de forma rápida e segura, além de poder utilizá-lo como método de pagamento para planos de [assinaturas](https://help.hotmart.com/pt-br/article/como-funciona-um-plano-de-assinatura-/208424858) e [Parcelamentos Inteligentes](https://help.hotmart.com/pt-br/article/como-funciona-um-plano-de-parcelamento-inteligente-/14844911241741). Para comprar usando cartão de crédito, será necessário preencher alguns detalhes, como o número do cartão, nome do titular, data de vencimento e CVV. Em caso de dúvidas no preenchimento dos dados, recomendamos consultar [este artigo](https://help.hotmart.com/pt-br/article/o-que-e-o-codigo-de-seguranca-do-cartao-cvv-/12920039094157). | - Cartão de débito Disponível em alguns países da América Latina, América do Norte e Europa, o cartão de débito é uma opção prática para quem prefere deduzir o valor da compra diretamente de sua conta bancária. Para comprar usando cartão de crédito, será necessário preencher alguns detalhes, como o número do cartão, nome do titular, data de vencimento e CVV. | - PayPal A PayPal é uma plataforma de pagamento digital que permite aos usuários realizar transações online de forma segura, usando uma variedade de métodos, incluindo saldo do PayPal, cartões de crédito e débito. É mais um método muito usado em planos de [assinaturas](https://help.hotmart.com/pt-br/article/como-funciona-um-plano-de-assinatura-/208424858) e [Parcelamentos Inteligentes](https://help.hotmart.com/pt-br/article/como-funciona-um-plano-de-parcelamento-inteligente-/14844911241741), porém é importante manter o cartão sempre atualizado na plataforma da PayPal, para que as recorrências sejam debitadas corretamente. Ao escolher pagar com PayPal, o comprador será redirecionado a uma página da plataforma, onde deverá fazer login e realizar o pagamento. | - Google Pay Disponível para realizar transações na nossa plataforma em maior parte do mundo, o Google Pay é uma carteira digital que permite aos usuários efetuar pagamentos com seus dispositivos Android. Ao escolher pagar com Google Pay, o comprador será redirecionado a uma página da plataforma, onde deverá fazer login e realizar o pagamento. | - Dois cartões de crédito Nossa plataforma também possibilita realizar uma compra usando dois cartões de crédito. A opção de comprar com dois cartões é uma solução para situações onde o comprador prefere não utilizar todo o limite disponível em apenas um cartão, distribuindo o custo de forma mais flexível entre duas fontes de pagamento. Ao escolher pagar com dois cartões, o comprador deverá informar na página de pagamentos qual valor será descontado de cada um deles. Depois, deverá preencher os dados de cada um dos cartões e então finalizar a compra. Nesse método, apenas uma fatura será gerada para a compra. Os valores debitados de cada cartão só estarão disponíveis para consulta no extrato de cada um deles. Métodos de pagamento exclusivos do Brasil | - Pix O Pix é um método de pagamento instantâneo do Brasil que permite transferências de dinheiro e pagamentos rápidos e seguros a qualquer momento. Ao escolher pagar via PIX, o comprador poderá escolher pagar através do QR code ou código PIX copia e cola. É muito importante realizar o processo completo para que a compra seja validada. | - Boleto O boleto bancário é um método de pagamento amplamente utilizado no Brasil, que permite realizar transações sem a necessidade de uma conta bancária. Funciona como um documento de cobrança que pode ser pago em bancos, casas lotéricas e até mesmo online, até a data de vencimento estabelecida. Mas atenção: existe um prazo de expiração para realizar o pagamento. Por isso, é importante verificar a data de vencimento impressa no boleto para evitar que ele expire. | - Boleto Parcelado (Parcelex) O Boleto parcelado, ou Parcelex, é um método de pagamento que possibilita aos consumidores parcelar suas compras online em várias vezes sem necessidade de um cartão de crédito. Funciona como uma alternativa de crédito flexível, permitindo que o comprador escolha o número de parcelas que melhor se adapta ao seu orçamento. Ao escolher pagar com Parcelex, o comprador precisará preencher um formulário com dados pessoais e solicitar a verificação do crédito. Caso seja aprovado, o comprador poderá selecionar um valor de entrada e quantidade de parcelas que deseja pagar pelo produto. Por fim, será redirecionado para a plataforma da Parcelex, onde deverá realizar pagamento da entrada (se houver) e enviar seus documentos. É muito importante realizar o processo completo para que a compra seja validada. Em caso de dúvidas ao realizar a compra, consulte nosso artigo [Como utilizar o Parcelex para fazer uma compra na Hotmart](https://help.hotmart.com/pt-br/article/4413705358349/como-utilizar-o-parcelex-para-fazer-uma-compra-na-hotmart). | - Saldo Hotmart Se, além de ser um comprador, você também é Produtor ou Afiliado, você pode usar os valores disponíveis do seu saldo de comissões para adquirir algum produto. Ao escolher pagar com o saldo Hotmart, o comprador deverá fazer login na plataforma e depois acessá-la por nosso aplicativo. Ao abrir o app, ele deverá clicar no ícone do perfil e selecionar a opção de QR code. Logo depois, deverá apontar a câmera para o código gerado e confirmar o pagamento. Mas atenção: só é permitido usar até R$ 5.000,00 da conta Hotmart para pagamento por dia. Caso a compra seja maior do que R$ 5.000,00 ou o cliente não tenha saldo suficiente, é possível completar o valor da compra com um cartão de crédito. | - Híbrido: Cartão + PIX Com a opção de pagamento híbrido entre um cartão de crédito e PIX, o comprador decide quanto vai dividir em cada um dos dois métodos de pagamento. Essa é uma opção para quem prefere dividir as despesas, pagando uma parte no crédito, e a outra em transferência instantânea. Ao escolher pagar com o modelo híbrido, o comprador informará os valores que prefere pagar em cada um dos métodos indicados. Depois de preencher os dados do cartão, deverá finalizar a compra para que o QR code e código PIX sejam gerados. É muito importante realizar o pagamento completo antes do prazo de expiração do código PIX para que a compra seja validada. Métodos de pagamento exclusivos da América Latina | - OXXO (México) OXXO é um método de pagamento do México e funciona como um boleto bancário. Ao confirmar a compra na página de pagamento, um voucher será gerado para que o comprador possa pagá-lo em qualquer uma das lojas OXXO. Mas atenção: existe um prazo de expiração para realizar o pagamento. Por isso, é importante verificar a data de vencimento impressa no boleto para evitar que ele expire. | - SPEI (México) O SPEI possibilita transferências de dinheiro entre diferentes bancos no México. É amplamente usado para pagamentos online e transferências bancárias diretas. Ao escolher pagar com SPEI, um código de pagamento será gerado após a confirmação da compra. Ao realizar o pagamento, o comprador passa a ter acesso ao produto. | - Mercado Pago (México) Parte do ecossistema Mercado Livre, o Mercado Pago é uma carteira digital que oferece uma plataforma para pagamentos online, permitindo aos usuários carregar saldo, realizar e receber pagamentos. Ao escolher pagar com Mercado Pago, o comprador será redirecionado a uma página da plataforma, onde deverá fazer login e realizar o pagamento. | - Híbrido: Cartão + OXXO (México) Com a opção de pagamento híbrido entre um cartão de crédito e OXXO, o comprador decide quanto vai dividir em cada um dos dois métodos de pagamento. Essa é uma opção para quem prefere dividir as despesas, pagando uma parte no crédito, e a outra à vista, com um boleto. Ao escolher pagar com o modelo híbrido, o comprador informará os valores que prefere pagar em cada um dos métodos indicados. Depois de preencher os dados do cartão, deverá finalizar a compra para que o boleto seja gerado. É muito importante realizar o pagamento completo antes do prazo de vencimento do boleto para que a compra seja validada. | - PagoEfectivo (Peru) PagoEfectivo é um método de pagamento utilizado no Peru que permite aos usuários pagar por compras online em dinheiro, gerando um código CIP que pode ser pago em diversos pontos de venda no país. Mas atenção: existe um prazo de expiração para realizar o pagamento. Por isso, é importante verificar a data de vencimento impressa no boleto para evitar que ele expire. | - Sencillito (Chile) Sencillito é um método de pagamento do Chile e funciona como um boleto bancário. Ao chegar na página de pagamento, o comprador terá acesso a um código que será usado para efetuar o pagamento em uma agência bancária ou via internet banking. Mas atenção: existe um prazo de expiração para realizar o pagamento. Por isso, é importante verificar a data de vencimento impressa no boleto para evitar que ele expire. | - Servipag (Chile) O Servipag é um sistema de pagamento chileno que oferece serviços de pagamento em pontos físicos de diferentes formas, incluindo débito em conta, cartão de crédito ou em dinheiro. Ao escolher pagar com Servipag, o comprador será redirecionado a uma página da plataforma, onde deverá fazer login e realizar o pagamento. | - MACH (Chile) MACH é uma carteira digital utilizada no Chile que permite realizar pagamentos online e transferências de dinheiro entre usuários, sem necessidade de uma conta bancária, usando apenas um aplicativo. Ao escolher pagar com MACH, um QR code será gerado automaticamente para que o pagamento possa ser realizado. | - PSE (Colômbia) O PSE é uma plataforma que permite aos colombianos fazer pagamentos online diretamente de suas contas bancárias, facilitando transações sem cartões de crédito. Ao selecionar esse método, o comprador escolhe o banco de preferência e é redirecionado ao site do PSE, onde realizará o pagamento. | - Efecty (Colômbia) Efecty é um método de pagamento da Colômbia e funciona como um boleto bancário. Ao confirmar a compra na página de pagamento, um boleto será gerado para que o comprador possa pagá-lo em qualquer um dos pontos de serviço espalhados pelo país. Mas atenção: existe um prazo de expiração para realizar o pagamento. Por isso, é importante verificar a data de vencimento impressa no boleto para evitar que ele expire. | - Bancolombia (Colômbia) Bancolombia é um método de pagamento da Colômbia e oferece diversas opções de pagamento digital e serviços bancários, facilitando transações online para seus clientes. Ao escolher pagar com Bancolombia, o comprador deverá escolher o seu banco e confirmar a compra. Depois disso, será redirecionado a uma página da plataforma, onde deverá fazer login e realizar o pagamento. | - Nequi (Colômbia) Nequi é um banco digital da Colômbia que oferece uma conta de pagamento móvel que permite transferências, pagamentos e recebimento de dinheiro, usando apenas um aplicativo. Ao optar pagar com Nequi, o comprador deve informar o número de telefone, e em seguida será direcionado para uma página com o QR code para realizar o pagamento. | - Híbrido: Cartão + Efecty (Colômbia) Com a opção de pagamento híbrido entre um cartão de crédito e Efecty, o comprador decide quanto vai dividir em cada um dos dois métodos de pagamento. Essa é uma opção para quem prefere dividir as despesas, pagando uma parte no crédito, e a outra à vista, com um voucher de pagamento. Ao escolher pagar com o modelo híbrido, o comprador informará os valores que prefere pagar em cada um dos métodos indicados. Depois de preencher os dados do cartão, deverá finalizar a compra para que o boleto seja gerado. É muito importante realizar o pagamento completo antes do prazo de vencimento do boleto para que a compra seja validada. | - PayPal Credit (Estados Unidos) O PayPal Credit é um método para compradores que não possuem limite suficiente em cartões de crédito. Ele funciona como um microcrédito em que o comprador pode quitar em várias parcelas para que seja possível realizar compras online. Esse método também está disponível para o Reino Unido. Ao escolher pagar com PayPal Credit, o comprador será redirecionado a uma página da plataforma, onde deverá fazer login e realizar o pagamento. | - Venmo (Estados Unidos) O Venmo é uma carteira digital do PayPal, que permite realizar pagamentos com o saldo da carteira Venmo, ou um cartão de crédito ou débito cadastrado, em poucos cliques, diretamente do computador ou smartphone. Ao escolher pagar com Venmo, o comprador será redirecionado a uma página da plataforma, onde deverá fazer login e realizar o pagamento. | - Pay in 4 (Estados Unidos) O Pay in 4 é uma solução do PayPal que permite aos compradores dividir suas compras online em quatro pagamentos iguais, pagos a cada duas semanas, sem juros. O objetivo é oferecer flexibilidade de pagamento, permitindo aos usuários gerenciar melhor seu fluxo de caixa sem incorrer em custos adicionais. Ao escolher pagar com Pay in 4, o comprador será redirecionado a uma página da plataforma, onde deverá fazer login e realizar o pagamento. Métodos de pagamento exclusivos da Europa | - Multibanco (Portugal) Mulitbanco é um método de pagamento utilizado em Portugal que permite aos usuários pagar por compras online em caixas automáticos (ATMs) ou via online banking. Ao escolher esse método, será gerado um código de referência para realizar o pagamento. Mas atenção: existe um prazo de expiração para realizar o pagamento. Por isso, é importante verificar a data de vencimento. | - MB WAY (Portugal) O MB WAY é uma carteira digital disponível em Portugal que permite realizar transferências instantâneas utilizando apenas o número de celular e um smartphone. Ao escolher pagar com MB WAY, o comprador deverá informar seu número de celular. Após informá-lo, uma notificação chegará em seu smartphone informando os detalhes da compra e em qual cartão o valor será debitado. Essa notificação oferecerá as opções de aceitar ou recusar o pagamento, e o acesso à compra será liberado apenas após a confirmação. | - SeQura (Espanha) A SeQura é um método de pagamento disponível na Espanha que permite aos compradores receber produtos antes do pagamento, além de opções de parcelamento sem necessidade de cartão de crédito. Ao escolher pagar com SeQura, o comprador deverá preencher seus dados e confirmar a compra. Após a confirmação, uma nova página da plataforma abrirá automaticamente com opções de planos de pagamento e o comprador precisará escolher o que preferir. | - BACS (Reino Unido) O BACS é um método de pagamento eletrônico no Reino Unido utilizado para transações diretas. Ao optar por pagar com BACS, o comprador deverá preencher um formulário com o nome completo, número da conta e um Código Sort (um identificador bancário utilizado no Reino Unido). | - PayPal Credit (Reino Unido) O PayPal Credit é um método para compradores que não possuem limite suficiente em cartões de crédito. Ele funciona como um microcrédito em que o comprador pode quitar em várias parcelas para que seja possível realizar compras online. Esse método também está disponível para os Estados Unidos. Ao escolher pagar com PayPal Credit, o comprador será redirecionado a uma página da plataforma, onde deverá fazer login e realizar o pagamento. | - SEPA (União Europeia) A SEPA facilita pagamentos em euros entre países da União Europeia, aplicando às transações o mesmo custo de uma operação doméstica, tanto para transferências bancárias quanto para débitos diretos. Ao escolher pagar por SEPA na nossa plataforma, o comprador precisará informar o nome completo, seguido do código IBAN. | - Klarna Pay Now/SOFORT (União Europeia) Klarna é um método de pagamento online disponível em vários países da União Europeia. Ele permite aos usuários realizar pagamentos diretos usando suas informações bancárias online, sem a necessidade de um cartão de crédito ou de criar uma conta. Ao escolher pagar com Klarna, o comprador será redirecionado a uma página da plataforma, onde deverá fazer login e realizar o pagamento. Casos específicos: Argentina e Venezuela - Argentina Para nossos clientes na Argentina, é importante estar cientes das alterações nas regulamentações do Banco Central da Argentina (BCRA), que modificam os prazos para remessas internacionais e impactam a liquidação de transações. Abaixo, deixamos uma lista dos métodos de pagamento que, devido às novas regras, não estão mais disponíveis na Argentina: * Cartões de crédito ou débito não emitidos por bancos argentinos; * Contas bancárias internacionais, mesmo que localizadas na Argentina; * Pago Fácil, para pagamentos em dinheiro; * Mercado Pago, como opção de carteira digital; * Cartões Naranja, Cabal, American Express, Diners Club e CRM. Em caso de dúvidas ao realizar um pagamento com cartão, recomendamos entrar em contato com o banco emissor, que poderá apoiar e esclarecer as possíveis dúvidas. - Venezuela Atualmente, existem algumas restrições de pagamento na Venezuela, Para entender melhor sobre, recomendamos consultar o artigo [Por que não existem outros métodos de pagamento disponíveis para comprar na Venezuela?](https://help.hotmart.com/pt-br/article/por-que-nao-existem-outros-metodos-de-pagamento-disponiveis-para-comprar-na-venezuela-/20545369199117). Não encontrou o método de pagamento da sua preferência? É importante destacar que os métodos de pagamento disponíveis podem mudar conforme a escolha dos Produtores. Por esse motivo, recomendamos verificar as opções disponíveis para cada produto de seu interesse, garantindo que possa realizar suas compras sem contratempos. Caso você não encontre o método de sua preferência na página de pagamento, você pode consultar nosso artigo [Por que não encontro o método de pagamento que eu preciso?](https://help.hotmart.com/pt-br/article/por-que-nao-encontro-o-metodo-de-pagamento-que-eu-preciso-/14845164817293).\n",
      "================================================================================ \n",
      "\n",
      "================================================================================\n",
      "Pergunta: O que é o PIX da Hotmart e como ativá-lo?\n",
      "Resposta: As Extensões da Hotmart são poderosas ferramentas que podem fazer seu negócio digital se desenvolver cada vez mais. Nelas, você encontra ferramentas de edição de páginas, e-mail marketing e solução de webinário, além de outras possibilidades totalmente integradas à plataforma Hotmart. Para acessar agora mesmo, é só seguir os passos abaixo: 1. Faça login na plataforma através do link 2. No canto superior direito, clique no ícone de bolinhas que fica ao lado da imagem do seu perfil 3. Uma aba com as seguintes opções será aberta: * [Criador de Páginas](h_01EMS7FT5YFDX2SB5B7RV070NX) * [E-mail marketing](h_01EMS7GXBXKWHB1A45H4ZSZ8BR) * [Webinário](h_01EMS7HWQNPQ05874QFBXMKBNB) * [Produtos](h_01EMS7JCG2AMQXAKY37SWMQXDZ) * [Ferramentas](h_01EMS7JW3NQ0G0NJ3JYZVS97K1) [Criador de páginas](h_01EMS7FT5YFDX2SB5B7RV070NX) Dentro de Criador de páginas, você poderá criar landing pages, páginas de vendas, de obrigado e de captura. Tudo isso a partir de diversos modelos já disponíveis e com possibilidade de personalizar de acordo com a identidade da sua marca. Além disso, é possível publicá-las com o seu próprio domínio. Navegue pelo menu para visualizar ou criar novas páginas e testes A/B, ou utilizar diversas ferramentas como quizzes, popups e outras possibilidades. [Confira mais detalhes sobre o Criador de Páginas da Hotmart](https://atendimento.hotmart.com.br/hc/pt-br/articles/360051129551-Como-usar-o-meu-Editor-de-P%C3%A1ginas-das-Extens%C3%B5es-da-Hotmart-). [E-mail marketing](h_01EMS7GXBXKWHB1A45H4ZSZ8BR) Já em E-mail marketing, você tem o que precisa para criar campanhas de e-mails e conferir um painel para acompanhar o desempenho delas. Segmente e organize seus leads no mesmo lugar, e descubra o quanto eles estão engajados com o seu negócio. [Descubra como usar a solução de e-mail marketing.](https://atendimento.hotmart.com.br/hc/pt-br/articles/360050648232-Como-usar-o-meu-E-mail-marketing-das-Extens%C3%B5es-da-Hotmart-) [Webinário](h_01EMS7HWQNPQ05874QFBXMKBNB) Com a solução de Webinário, você cria transmissões ao vivo, convida a audiência e já coloca no ar. Durante a live, é possível conversar com o público em tempo real e fazer vendas ao vivo. Além disso, você pode baixar os inscritos e participantes para complementar sua estratégia de aquisição de potenciais compradores. [Confira detalhes do passo a passo de como configurar seu webinário aqui.](https://atendimento.hotmart.com.br/hc/pt-br/articles/360051129151-Como-usar-o-meu-Webin%C3%A1rio-das-Extens%C3%B5es-da-Hotmart-) [Produtos](h_01EMS7JCG2AMQXAKY37SWMQXDZ) Clique em Produtos para visualizar ou criar mais de um produto na Hotmart para ampliar suas estratégias. [Ferramentas](h_01EMS7JW3NQ0G0NJ3JYZVS97K1) Crie pesquisas, personalize sua página de pagamento, funil de vendas e muito mais. Clicando em Ver todas as ferramentas, é possível escolher e configurar diversas ferramentas para usar em seu produto digital.\n",
      "================================================================================ \n",
      "\n",
      "================================================================================\n",
      "Pergunta: Como alterar o idioma na página de pagamento da Hotmart?\n",
      "Resposta: Ao realizar uma compra por meio da Hotmart, você será direcionado a uma página de pagamento do produto em que irá preenchê-la com seus dados pessoais e de pagamento. Neste momento, você poderá escolher entre os diversos idiomas disponíveis e traduzir a página de pagamento para a língua mais adequada a região em que você estiver. Novidade para compradores que vivem no Oriente Médio: agora é possível utilizar nossa página de pagamento em árabe. Veja abaixo como configurá-lo: 1.Na página de pagamento, basta ir ao canto direito e clicar em Alterar País 2.Depois é só escolher o idioma de preferência 3.E Pronto! A Página de Pagamento estará traduzida para o idioma escolhido e pronta para você finalizar sua compra. Ex:. A página de pagamento ficará assim:\n",
      "================================================================================ \n",
      "\n",
      "================================================================================\n",
      "Pergunta: Quanto a Hotmart cobra de taxas nas vendas?\n",
      "Resposta: Na Hotmart, você pode criar sua conta, cadastrar seus produtos físicos ou digitais e começar a usar nossas ferramentas para divulgação e vendas sem nenhum custo inicial. As taxas da plataforma só são cobradas quando você realiza uma venda, ou seja, quando uma transação é aprovada, as taxas são descontadas do valor do seu saldo. Neste artigo, vamos explicar as taxas cobradas pela plataforma e em quais contextos cada uma é aplicada. Taxa Hotmart A taxa de serviço Hotmart é formada a partir de duas taxas: a Taxa de Intermediação e a Taxa de Licença. A Taxa de Intermediação varia de acordo com o valor de venda do produto (porcentagem sobre o valor do produto) e a moeda paga na comissão. Ela é cobrada em todas as transações aprovadas e representa o serviço de intermediação da Hotmart. Por outro lado, a Taxa de Licença é uma taxa fixa que varia de acordo com a moeda paga na comissão. Ela também é cobrada em todas as transações aprovadas e representa a licença de uso da Hotmart. Essas duas taxas são aplicadas de acordo com diferentes regras, dependendo da moeda da comissão e do valor da transação (que pode ser classificada como microtransação ou transação geral). A seguir, você encontrará os valores de acordo com transações consideradas gerais ou microtransações. - Taxa aplicada às Microtransações Microtransações são aquelas de baixo valor, como vendas menores ou iguais a 10 BRL (reais), 15 USD (dólar), 15 EUR (euro) ou 15 GBP (libra esterlina), conforme você verá na tabela a seguir. Nesse caso, as taxas variam conforme a moeda utilizada na compra e a moeda da comissão, podendo haver conversões. Confira abaixo as regras e valores aplicados: | Moeda de compra e comissão | Valor da oferta | Taxa de Intermediação+ Taxa de Licença | | --- | --- | --- | | USD | Menor ou igual a 15 USD | 9.9% + 0,10 USD | | EUR | Menor ou igual a 15 EUR | 9.9% + 0,10 EUR | | GBP | Menor ou igual a 15 GBP | 9.9% + 0,10 GBP | | BRL | Menor ou igual a 10 BRL | 20% BRL | | Moeda de compra diferente da moeda de comissão\\* | Menor ou igual a 5 USD | 20% USD | \\*Microtransações nas quais a moeda utilizada na compra é diferente da moeda em que a comissão é paga. No cenário em que a moeda de compra é diferente da moeda de comissão, o valor da transação é convertido em dólar americano (USD) para a realização dos cálculos. Sendo assim, se a moeda da compra for diferente da moeda da comissão, o valor é convertido para USD. Para comissões de até 5 USD, a taxa é de 20%, independentemente da moeda. Importante: em todos os cenários descritos acima, o valor avaliado não engloba impostos e juros de cartão de crédito. - Taxa aplicada às Transações Gerais As transações gerais são todas aquelas que possuem um valor maior do que as caracterizadas como microtransações. Nesse caso, elas possuem as regras definidas conforme a moeda da comissão. Confira abaixo as regras e valores aplicados: | Moeda de compra e comissão | Valor da oferta | Taxa de Intermediação+ Taxa de Licença | | --- | --- | --- | | USD | Maior que 15 USD | 9.9% + 0,50 USD | | EUR | Maior que 15 EUR | 9.9% + 0,50 EUR | | GBP | Maior que 15 GBP | 9.9% + 0,50 GBP | | BRL | Maior que 10 BRL | 9.9% + 1,00 BRL | | Moeda de compra diferente da moeda de comissão\\* | Maior que 5 USD | 9.9% + 0,50 USD | \\*Transações nas quais a moeda utilizada na compra é diferente da moeda em que a comissão é paga. No cenário em que a moeda de compra é diferente da moeda de comissão, o valor da transação é convertido em dólar americano (USD) para a realização dos cálculos. Sendo assim, se a moeda da compra for diferente da moeda da comissão, o valor é convertido para USD. Para comissões maiores que 5 USD, a taxa é de 9.9% + 0,50 USD, independentemente da moeda. Importante: em todos os cenários descritos acima, o valor avaliado não engloba impostos e juros de cartão de crédito. Taxa de Saque Ao solicitar um saque na plataforma, é cobrada uma taxa para cobrir encargos bancários. Esta taxa é descontada do seu saldo no momento da solicitação e pode variar conforme o valor a ser sacado. Para mais detalhes sobre essa taxa, confira [este artigo](https://help.hotmart.com/pt-br/article/216440207/como-sacar-a-minha-comissao-). Taxa de Ativação do Player de Vídeo da Hotmart Para Produtores que utilizam o [Player de Vídeo](https://help.hotmart.com/pt-br/article/217150538/como-configurar-o-player-de-video-da-hotmart), é aplicada uma taxa de ativação por cada venda aprovada para o serviço de Streaming da Hotmart. Essa taxa é aplicada sempre considerando a moeda da comissão, ou seja, se a comissão é em BRL, a taxa também será cobrada na mesma moeda. Entenda a seguir como essa taxa será aplicada, dependendo do tipo do seu produto: | Tipo do produto | Valor da taxa de Ativação do Player de Vídeo | | --- | --- | | Produtos de pagamento único | Valor de 2,49 BRL ou 1,49 EUR/USD por venda aprovada. | | Produtos de assinatura | O valor variará entre a primeira recorrência da assinatura e as demais:* Primeira recorrência: 2,49 BRL ou 1,49 EUR/USD. * Recorrências seguintes: 0,50 BRL ou 0,30 EUR/USD. | | Produtos vendidos como combo | A taxa de ativação é multiplicada por dois.Nesse caso, o valor pode variar segundo os tipos de produtos vendidos no combo:* Em caso de produtos de pagamento único ou assinaturas na primeira recorrência: 4,99 BRL ou 2,98 EUR/USD. * Demais recorrências de uma assinatura: 1,00 BRL ou 1,20 EUR/USD. | Informação importante: impostos sobre taxas Algumas vendas realizadas através da plataforma Hotmart podem estar sujeitas a impostos sobre as taxas cobradas aos Produtores. A incidência de impostos depende das regras da região onde a empresa do Produtor está registrada, do tipo de produto (ESS\\* ou Non-ESS), além de regras específicas de cada localidade em relação à tributação e eventuais isenções. Confira abaixo os cenários em que o imposto sobre a taxa de serviços da Hotmart pode ser cobrado: | Localização do ProdutorPaís de cadastro da conta Hotmart | Natureza da conta do Produtor | Natureza do produto | | --- | --- | --- | | União Europeia | Indivíduo | Qualquer | | Países Baixos | Qualquer (Indivíduo ou Empresa) | Qualquer | | Estados Unidos (Texas) | Qualquer (Indivíduo ou Empresa) | Qualquer | | México | Empresa | Qualquer | | Colômbia | Qualquer (Indivíduo ou Empresa) | Qualquer | \\*Os Serviços Fornecidos Eletronicamente (ESS), para efeitos de impostos na União Europeia, referem-se a serviços prestados através da Internet ou de uma rede eletrônica, que são automatizados e envolvem intervenção humana mínima (como downloads de software, cursos online ou serviços de streaming). Caso o Produtor esteja cadastrado na União Europeia e faça vendas de produto Fornecido Eletronicamente (ESS) para compradores europeus, o imposto sobre a taxa não será aplicado. Perguntas frequentes | - Como identificar os valores cobrados em cada transação? Você pode identificar esses valores no relatório de vendas. Para acessá-lo, siga estes passos: 1. Clique no menu lateral esquerdo em Vendas. 2. Selecione Minhas vendas. 3. Filtre o período desejado. 4. Clique em Exportar. No relatório exportado, você encontrará colunas específicas detalhando o valor da comissão total e da comissão sem as taxas. | - O comprador cancelou a compra ou solicitou reembolso. Ainda assim a taxa é cobrada? Não. As taxas são cobradas apenas de vendas aprovadas e completas. Se a compra for reembolsada ou negada, nenhuma taxa será cobrada. | - Há diferença de taxas para diferentes naturezas jurídicas? Não há diferença de taxas para contas com naturezas jurídicas diferentes. As regras são as mesmas tanto para contas de pessoa física (PF) quanto para pessoa jurídica (PJ). | - Afiliados e Co-Produtores também são cobrados por essas taxas? Não, as taxas são cobradas apenas do Produtor. As comissões dos Afiliados e Co-Produtores são calculadas com base no valor após a dedução das taxas. Para entender melhor como é feito o cálculo de comissões, verifique [este artigo](https://help.hotmart.com/pt-br/article/360011780352/como-sao-calculadas-as-comiss-es-na-hotmart-). | - Compradores são cobrados por taxas de uso da plataforma? Não. Os valores pagos pelos Compradores correspondem ao valor de compra do produto. Impostos de compra podem ser aplicados dependendo da região onde a compra é realizada. Para saber mais sobre a incidência de impostos em uma compra, confira [este artigo](https://help.hotmart.com/pt-br/article/360051146712/).\n",
      "================================================================================ \n",
      "\n"
     ]
    }
   ],
   "source": [
    "# Iterar sobre todas as perguntas de teste\n",
    "for query in test_questions_recuperacao_pura:\n",
    "    # Recuperar e processar resposta\n",
    "\n",
    "    final_response = process_response(query)\n",
    "    final_response = clean_response(final_response)\n",
    "\n",
    "    # Exibir resposta corrigida\n",
    "    print(\"=\"*80)\n",
    "    print(\"Pergunta:\", query)\n",
    "    print(\"Resposta:\", final_response)\n",
    "    print(\"=\"*80, \"\\n\")"
   ]
  },
  {
   "cell_type": "code",
   "execution_count": 29,
   "metadata": {},
   "outputs": [
    {
     "name": "stdout",
     "output_type": "stream",
     "text": [
      "================================================================================\n",
      "Pergunta: Posso pagar com dois cartões de crédito?\n",
      "Resposta: Ao efetuar compras, pode ocorrer dos Compradores enfrentarem alguns problemas com limites do cartão de crédito. Isso pode acontecer tanto por falta de limite num único cartão ou, em outros casos, pelo desejo de não comprometer todo o saldo que há nele. Dessa forma, a melhor maneira de evitar a perda dessas vendas é habilitar a opção de pagamento com dois cartões de crédito em seu checkout (página de pagamento). Quer saber como? Para ativar o pagamento com dois cartões de créditos diferentes, basta seguir o passo a passo abaixo: 1. Faça login na plataforma por meio do link ; 2. Vá em Ferramentas; 3. Clique em Configurações de pagamento; 4. Selecione o produto. Nele, ative a opção desejada; 5. Ative a opção 2 Cartões de Crédito; 6. Por fim, clique em Salvar. Atenção: para vendas no México e Colômbia, ainda não é possível ativar o pagamento com dois cartões de crédito.\n",
      "================================================================================ \n",
      "\n",
      "================================================================================\n",
      "Pergunta: Quais são as taxas para produtores na Hotmart?\n",
      "Resposta: Na Hotmart, você pode criar sua conta, cadastrar seus produtos físicos ou digitais e começar a usar nossas ferramentas para divulgação e vendas sem nenhum custo inicial. As taxas da plataforma só são cobradas quando você realiza uma venda, ou seja, quando uma transação é aprovada, as taxas são descontadas do valor do seu saldo. Neste artigo, vamos explicar as taxas cobradas pela plataforma e em quais contextos cada uma é aplicada. Taxa Hotmart A taxa de serviço Hotmart é formada a partir de duas taxas: a Taxa de Intermediação e a Taxa de Licença. A Taxa de Intermediação varia de acordo com o valor de venda do produto (porcentagem sobre o valor do produto) e a moeda paga na comissão. Ela é cobrada em todas as transações aprovadas e representa o serviço de intermediação da Hotmart. Por outro lado, a Taxa de Licença é uma taxa fixa que varia de acordo com a moeda paga na comissão. Ela também é cobrada em todas as transações aprovadas e representa a licença de uso da Hotmart. Essas duas taxas são aplicadas de acordo com diferentes regras, dependendo da moeda da comissão e do valor da transação (que pode ser classificada como microtransação ou transação geral). A seguir, você encontrará os valores de acordo com transações consideradas gerais ou microtransações. - Taxa aplicada às Microtransações Microtransações são aquelas de baixo valor, como vendas menores ou iguais a 10 BRL (reais), 15 USD (dólar), 15 EUR (euro) ou 15 GBP (libra esterlina), conforme você verá na tabela a seguir. Nesse caso, as taxas variam conforme a moeda utilizada na compra e a moeda da comissão, podendo haver conversões. Confira abaixo as regras e valores aplicados: | Moeda de compra e comissão | Valor da oferta | Taxa de Intermediação+ Taxa de Licença | | --- | --- | --- | | USD | Menor ou igual a 15 USD | 9.9% + 0,10 USD | | EUR | Menor ou igual a 15 EUR | 9.9% + 0,10 EUR | | GBP | Menor ou igual a 15 GBP | 9.9% + 0,10 GBP | | BRL | Menor ou igual a 10 BRL | 20% BRL | | Moeda de compra diferente da moeda de comissão\\* | Menor ou igual a 5 USD | 20% USD | \\*Microtransações nas quais a moeda utilizada na compra é diferente da moeda em que a comissão é paga. No cenário em que a moeda de compra é diferente da moeda de comissão, o valor da transação é convertido em dólar americano (USD) para a realização dos cálculos. Sendo assim, se a moeda da compra for diferente da moeda da comissão, o valor é convertido para USD. Para comissões de até 5 USD, a taxa é de 20%, independentemente da moeda. Importante: em todos os cenários descritos acima, o valor avaliado não engloba impostos e juros de cartão de crédito. - Taxa aplicada às Transações Gerais As transações gerais são todas aquelas que possuem um valor maior do que as caracterizadas como microtransações. Nesse caso, elas possuem as regras definidas conforme a moeda da comissão. Confira abaixo as regras e valores aplicados: | Moeda de compra e comissão | Valor da oferta | Taxa de Intermediação+ Taxa de Licença | | --- | --- | --- | | USD | Maior que 15 USD | 9.9% + 0,50 USD | | EUR | Maior que 15 EUR | 9.9% + 0,50 EUR | | GBP | Maior que 15 GBP | 9.9% + 0,50 GBP | | BRL | Maior que 10 BRL | 9.9% + 1,00 BRL | | Moeda de compra diferente da moeda de comissão\\* | Maior que 5 USD | 9.9% + 0,50 USD | \\*Transações nas quais a moeda utilizada na compra é diferente da moeda em que a comissão é paga. No cenário em que a moeda de compra é diferente da moeda de comissão, o valor da transação é convertido em dólar americano (USD) para a realização dos cálculos. Sendo assim, se a moeda da compra for diferente da moeda da comissão, o valor é convertido para USD. Para comissões maiores que 5 USD, a taxa é de 9.9% + 0,50 USD, independentemente da moeda. Importante: em todos os cenários descritos acima, o valor avaliado não engloba impostos e juros de cartão de crédito. Taxa de Saque Ao solicitar um saque na plataforma, é cobrada uma taxa para cobrir encargos bancários. Esta taxa é descontada do seu saldo no momento da solicitação e pode variar conforme o valor a ser sacado. Para mais detalhes sobre essa taxa, confira [este artigo](https://help.hotmart.com/pt-br/article/216440207/como-sacar-a-minha-comissao-). Taxa de Ativação do Player de Vídeo da Hotmart Para Produtores que utilizam o [Player de Vídeo](https://help.hotmart.com/pt-br/article/217150538/como-configurar-o-player-de-video-da-hotmart), é aplicada uma taxa de ativação por cada venda aprovada para o serviço de Streaming da Hotmart. Essa taxa é aplicada sempre considerando a moeda da comissão, ou seja, se a comissão é em BRL, a taxa também será cobrada na mesma moeda. Entenda a seguir como essa taxa será aplicada, dependendo do tipo do seu produto: | Tipo do produto | Valor da taxa de Ativação do Player de Vídeo | | --- | --- | | Produtos de pagamento único | Valor de 2,49 BRL ou 1,49 EUR/USD por venda aprovada. | | Produtos de assinatura | O valor variará entre a primeira recorrência da assinatura e as demais:* Primeira recorrência: 2,49 BRL ou 1,49 EUR/USD. * Recorrências seguintes: 0,50 BRL ou 0,30 EUR/USD. | | Produtos vendidos como combo | A taxa de ativação é multiplicada por dois.Nesse caso, o valor pode variar segundo os tipos de produtos vendidos no combo:* Em caso de produtos de pagamento único ou assinaturas na primeira recorrência: 4,99 BRL ou 2,98 EUR/USD. * Demais recorrências de uma assinatura: 1,00 BRL ou 1,20 EUR/USD. | Informação importante: impostos sobre taxas Algumas vendas realizadas através da plataforma Hotmart podem estar sujeitas a impostos sobre as taxas cobradas aos Produtores. A incidência de impostos depende das regras da região onde a empresa do Produtor está registrada, do tipo de produto (ESS\\* ou Non-ESS), além de regras específicas de cada localidade em relação à tributação e eventuais isenções. Confira abaixo os cenários em que o imposto sobre a taxa de serviços da Hotmart pode ser cobrado: | Localização do ProdutorPaís de cadastro da conta Hotmart | Natureza da conta do Produtor | Natureza do produto | | --- | --- | --- | | União Europeia | Indivíduo | Qualquer | | Países Baixos | Qualquer (Indivíduo ou Empresa) | Qualquer | | Estados Unidos (Texas) | Qualquer (Indivíduo ou Empresa) | Qualquer | | México | Empresa | Qualquer | | Colômbia | Qualquer (Indivíduo ou Empresa) | Qualquer | \\*Os Serviços Fornecidos Eletronicamente (ESS), para efeitos de impostos na União Europeia, referem-se a serviços prestados através da Internet ou de uma rede eletrônica, que são automatizados e envolvem intervenção humana mínima (como downloads de software, cursos online ou serviços de streaming). Caso o Produtor esteja cadastrado na União Europeia e faça vendas de produto Fornecido Eletronicamente (ESS) para compradores europeus, o imposto sobre a taxa não será aplicado. Perguntas frequentes | - Como identificar os valores cobrados em cada transação? Você pode identificar esses valores no relatório de vendas. Para acessá-lo, siga estes passos: 1. Clique no menu lateral esquerdo em Vendas. 2. Selecione Minhas vendas. 3. Filtre o período desejado. 4. Clique em Exportar. No relatório exportado, você encontrará colunas específicas detalhando o valor da comissão total e da comissão sem as taxas. | - O comprador cancelou a compra ou solicitou reembolso. Ainda assim a taxa é cobrada? Não. As taxas são cobradas apenas de vendas aprovadas e completas. Se a compra for reembolsada ou negada, nenhuma taxa será cobrada. | - Há diferença de taxas para diferentes naturezas jurídicas? Não há diferença de taxas para contas com naturezas jurídicas diferentes. As regras são as mesmas tanto para contas de pessoa física (PF) quanto para pessoa jurídica (PJ). | - Afiliados e Co-Produtores também são cobrados por essas taxas? Não, as taxas são cobradas apenas do Produtor. As comissões dos Afiliados e Co-Produtores são calculadas com base no valor após a dedução das taxas. Para entender melhor como é feito o cálculo de comissões, verifique [este artigo](https://help.hotmart.com/pt-br/article/360011780352/como-sao-calculadas-as-comiss-es-na-hotmart-). | - Compradores são cobrados por taxas de uso da plataforma? Não. Os valores pagos pelos Compradores correspondem ao valor de compra do produto. Impostos de compra podem ser aplicados dependendo da região onde a compra é realizada. Para saber mais sobre a incidência de impostos em uma compra, confira [este artigo](https://help.hotmart.com/pt-br/article/360051146712/).\n",
      "================================================================================ \n",
      "\n",
      "================================================================================\n",
      "Pergunta: Como funciona o parcelamento de pagamentos?\n",
      "Resposta: A Hotmart oferece mais de 20 métodos de pagamento, atendendo compradores em mais de 180 países. Essa ampla variedade garante que pessoas de diferentes regiões possam adquirir produtos digitais na nossa plataforma. Para saber mais sobre todas as opções de pagamento disponíveis, confira [este artigo](https://help.hotmart.com/pt-br/article/25648853025037/). - Como são definidos os métodos de pagamento de um produto? Cada Produtor na Hotmart tem a liberdade de escolher os métodos de pagamento que melhor atendem às necessidades do seu produto e estratégia de vendas. Isso significa que as opções de pagamento, incluindo a possibilidade de parcelamento, podem variar conforme as configurações definidas pelo Produtor na página de pagamento. - Como visualizar os métodos de pagamento disponíveis? Ao adquirir um produto, é importante selecionar o seu país de residência para visualizar as opções de pagamento disponíveis na sua região e na moeda local. Você pode fazer isso no menu de seleção de país, localizado no canto superior direito da página de pagamento, conforme mostrado na imagem abaixo: - O que fazer se o método de pagamento desejado não estiver disponível? Se o método de pagamento que você gostaria de utilizar não estiver disponível, você pode entrar em contato diretamente com o Produtor para verificar a possibilidade de adicionar essa opção. A configuração dos métodos de pagamento é de responsabilidade do Produtor, que poderá avaliar a viabilidade de atender à sua solicitação. Para entrar em contato com o Produtor, role até o final da página de pagamento e clique em Precisa de ajuda? Entre em contato. O e-mail de suporte do Produtor será exibido para que você possa enviar sua solicitação diretamente:\n",
      "================================================================================ \n",
      "\n",
      "================================================================================\n",
      "Pergunta: Posso oferecer reembolsos na Hotmart?\n",
      "Resposta: Na Hotmart, você pode se afiliar a diversos produtos disponíveis na nossa plataforma. Neste artigo te explicamos as etapas de afiliação. Vamos lá? - Tenha uma conta no site da Hotmart O primeiro passo para se afiliar a um produto por meio da Hotmart é ter uma conta cadastrada com o seu e-mail. Se ainda não possui um cadastro, [clique aqui](https://hotmart.com/pt-br?utm_medium=paid&utm_source=google&utm_campaign=bra_br_awar_tra_institucional_search_hotmart-variacoes&gad_source=1&gclid=Cj0KCQiA2KitBhCIARIsAPPMEhJ4vCC-LETNYyTRLuCXUqp7xoKQMuHeRmpVM_rO9Vbg0wZy6ZrkrSkaAl4gEALw_wcB) para fazer o seu. Se você efetuou uma compra pela Hotmart, já possui uma conta. Nesse caso, você só precisa habilitá-la com perfil de Afiliado(a) e/ou de Produtor(a) para se afiliar. Para isso, consulte o artigo [Como atualizar minha conta de comprador para afiliado/Produtor?](https://help.hotmart.com/pt-br/article/216971287). Preste atenção, pois essa etapa é importante. Você só pode se afiliar a um produto depois da confirmação dos seus dados cadastrais na plataforma da Hotmart. Para fazê-lo, clique no círculo localizado no canto superior direito e selecione a opção Minha Conta, na nova página, selecione a aba Dados Pessoais e confirme se todos os dados foram preenchidos corretamente. Pronto? Então, vamos para o próximo passo! - Encontre um produto ideal para você no Mercado da Hotmart Para encontrar um produto que você possa se afiliar, siga os passos abaixo: 1. Acesse sua conta na [Hotmart](https://app-vlc.hotmart.com/login). 2. No menu lateral à esquerda, clique em Produtos > Afiliar-se a um produto (Mercado de Afiliação) 3. Na tela que irá se abrir você verá os Produtos disponíveis para se afiliar e poderá filtrar por Categoria, Recomendados, Mais Quentes, Mais Queridos ou Mais Recentes. 4. Clique no Produto que deseja se afiliar. Na tela seguinte você poderá conferir a Comissão, Regras de Afiliação, Sobre o Produto e também outros produtos do mesmo Produtor. 5. Se estiver conforme as informações indicadas, clique em Afilie-se Agora! para confirmar sua solicitação. * Se o produto for Afiliação com 1 clique, você verá o botão Afilie-se Agora. A partir desse momento, você já se torna Afiliado(a) e tem acesso aos Links de Divulgação para começar sua divulgação. * Se o produto for de Afiliação por aprovação, você verá o botão Solicitar Afiliação. O(a) Produtor(a) receberá um pedido com a sua afiliação e você deverá aguardar pelo retorno da sua solicitação. - Como acompanhar meus pedidos de afiliação? Se você pediu para se afiliar em produtos de Afiliação por aprovação, é importante que você acompanhe esse processo. Para isso, basta seguir os passo abaixo: 1. Após entrar na sua conta, clique no menu lateral esquerdo em Produtos > Meus Produtos. 2. Na tela que abrir, clique em Sou Afiliado(a). 3. Clique em Solicitadas. Nesta aba, você poderá acompanhar seus pedidos de afiliação e também poderá cancelar os pedidos que desejar.\n",
      "================================================================================ \n",
      "\n",
      "================================================================================\n",
      "Pergunta: Como configurar descontos para meus clientes na Hotmart?\n",
      "Resposta: Na Hotmart, entendemos que nem todas as suas informações pessoais precisam estar visíveis para seus clientes. Pensando nisso, oferecemos a opção de criar um Perfil Público, onde você pode escolher quais informações deseja compartilhar na página do seu produto e dentro de comunidades. Assim, você controla o que seus compradores podem visualizar. - Para configurar seu Perfil Público, siga os passos abaixo: 1. Acesse sua conta Hotmart pelo link: . 2. No canto superior, clique em Minha conta. 3. Dentro da sua conta, selecione a aba Perfil Público. 4. No Perfil Público, você pode personalizar as seguintes informações: * Nome público: nome que será exibido aos seus compradores. * Descrição: um breve texto sobre você ou seu negócio para aumentar a confiança do comprador. * Imagem de perfil: adicione uma foto que represente você ou sua marca. 5. Além disso, você pode optar por: * Exibir o número total de cursos e a quantidade aproximada de alunos que você possui no Hotmart Club, marcando a opção Usar meus números da Área de Membros Hotmart. * Adicionar links diretos para suas redes sociais, permitindo que os compradores conheçam mais sobre você. 6. Após ajustar as configurações conforme desejar, clique em Salvar. Com seu Perfil Público configurado, seus compradores poderão visualizar suas informações ao comprar seu produto, além de ter mais confiança e segurança ao adquirirem seus produtos.\n",
      "================================================================================ \n",
      "\n"
     ]
    }
   ],
   "source": [
    "# Iterar sobre todas as perguntas de teste\n",
    "for query in test_questions_ajuste_generativo:\n",
    "    # Recuperar e processar resposta\n",
    "    final_response = process_response(query)\n",
    "    final_response = clean_response(final_response)\n",
    "\n",
    "    # Exibir resposta corrigida\n",
    "    print(\"=\"*80)\n",
    "    print(\"Pergunta:\", query)\n",
    "    print(\"Resposta:\", final_response)\n",
    "    print(\"=\"*80, \"\\n\")"
   ]
  },
  {
   "cell_type": "code",
   "execution_count": 30,
   "metadata": {},
   "outputs": [
    {
     "name": "stdout",
     "output_type": "stream",
     "text": [
      "================================================================================\n",
      "Pergunta: A Hotmart aceita criptomoedas como forma de pagamento?\n",
      "Resposta: A conta de pagamento Hotmart é gerada de forma automática, para usuários brasileiros, assim que você realiza sua primeira venda. Diferente da conta bancária que você cadastra para realizar os saques, a conta de pagamento Hotmart é criada para acessar seus ganhos de forma segura e eficaz, cujo valor é mantido em uma conta do Banco Central do Brasil (Bacen). Isso significa que seu dinheiro está em segurança no Bacen, sendo você a única pessoa com acesso à sua conta. A Hotmart não tem permissão para acessar ou movimentar seu saldo sem sua autorização. Para mais detalhes, consulte nossa [Política Geral de Pagamentos](https://hotmart.com/pt-br/legal/politicas-de-pagamento). A abertura dessa conta cumpre uma [determinação do Bacen](https://help.hotmart.com/pt-BR/article/o-que-e-e-como-funciona-uma-sociedade-de-credito-direto-/15854959057037), que inclui a obrigação de atualizar anualmente as informações da mesma. Para isso é necessário manter os dados cadastrais atualizados, ter movimentação ativa e acesso regular a nossas soluções. O encerramento da conta de pagamento pode acontecer de duas formas: 1. Por iniciativa do próprio usuário, e a qualquer momento, desde que não haja inconsistências e irregularidades nas informações cadastrais fornecidas à Hotmart; questões relativas à idoneidade do Produtor; reclamações pendentes; transações pendentes, em processamento ou ainda não liquidadas e eventuais obrigações de pagamento vinculadas à conta de pagamento que estejam pendentes. 2. Por iniciativa da Hotmart, nos seguintes casos: por desinteresse comercial na manutenção da conta; em caso de conta inativa sem movimentação pelo prazo de 12 meses ou mais; quando o Produtor deixar de residir no Brasil; por ordem de autoridade competente; diante de qualquer irregularidade nas informações prestadas pelo Produtor; por descumprimento de qualquer disposição da Política Geral de Pagamentos ou de quaisquer outras regras e condições de cadastro; por suspensão ou cancelamento do documento apresentado pelo Produtor, CPF/CNPJ ou outras irregularidades apontadas pela Receita Federal do Brasil. Nos casos em que a conta de pagamento for encerrada por iniciativa da Hotmart, você receberá uma comunicação prévia no e-mail informado durante o processo de cadastro. Caso você possua saldo disponível na conta, deverá seguir as orientações abaixo: 1. Entrar em contato com nosso Suporte clicando no botão azul Entrar em contato, localizado no final deste artigo; 2. Abrir um chamado na opção Saques e Comissões > Não consigo sacar; 3. Aguardar o retorno do nosso time com as orientações para o saque. O encerramento da conta de pagamento é automaticamente cancelado caso você realize uma venda entre a data do comunicado de cancelamento e a efetivação do cancelamento. Caso você realize uma venda após o encerramento da conta, uma nova conta de pagamentos será criada automaticamente. Importante: a conta de pagamento é diferente da conta na plataforma Hotmart e, mesmo que a primeira seja encerrada, você pode utilizar a segunda normalmente. Saiba mais no site .\n",
      "================================================================================ \n",
      "\n",
      "================================================================================\n",
      "Pergunta: Posso pagar um curso na Hotmart com Apple Pay?\n",
      "Resposta: ls=1) (iOS) ou [Google Play](https://play.google.com/store/apps/details?id=com.hotmart.sparkle) (Android) 2. Caso já possua uma conta na Hotmart basta clicar em Entrar com minha conta Hotmart, e inserir o mesmo email e senha que usar para acessar sua conta Hotmart. 3. Se escolher Criar uma conta 4. Informe seu e-mail 5. Confirme o endereço de e-mail\\* 6. A seguir, será enviado para o email informado um código de 5 dígitos 7. Insira esse código no seu aplicativo e de acordo com o seu perfil de usuário siga um dos fluxos abaixo É meu primeiro login para acessar o produto que comprei: Crie uma senha para sua conta Hotmart e complete seu cadastro informando sua data de nascimento e um nome de usuário. Comprei um produto pela Hotmart e já acessei o conteúdo pela área de membros Seu acesso no app da Hotmart deverá ser o mesmo que utiliza para acessar o produto. Já tenho um cadastro na plataforma Hotmart ou Marketplace, mas não tenho produto comprado Entre com a mesma senha que utiliza para acessar a sua conta na Hotmart Não tenho um cadastro na Hotmart e quero usar o app da Hotmart Caso nunca tenha se cadastrado na Hotmart, crie uma senha e finalize seu cadastro com Nome Completo, Data de Nascimento e Nome de Usuário. Importante: a sua data de nascimento não poderá ser alterada posteriormente, assim garantimos uma experiência mais adequada ao seu perfil Esqueci minha senha Caso não se lembrar de sua senha, utilize a opção de redefinição de senha para criar um novo acesso Obs: Todos os usuários que fizerem login no app da Hotmart pela primeira vez, o acesso será direcionado para duas telas de Onboarding, uma espécie de boas vindas para orientar como funciona a navegação dentro do app. Uma primeira tela apresentando sugestões de categorias e comunidades para você seguir com base em seus gostos e preferências e uma segunda tela destacando os últimos produtos adquiridos. \\*Por que foi solicitada uma validação do meu e-mail para entrar no app da Hotmart? A validação do e-mail é mais uma forma de proteger sua conta na Hotmart. Além disso, se você comprou um Produto, é essa confirmação que vai nos possibilitar um melhor direcionamento de login para que você acesse todos os seus produtos dentro do app. O login social no aplicativo da Hotmart foi alterado. Veja o que mudou Se o seu login no app da Hotmart foi feito pelo Facebook ou pela Apple, você deverá criar uma nova senha para continuar a acessar o app. Após esse processo de criação de senha, será removido o vínculo tanto da sua conta Hotmart com o Facebook quanto do aplicativo. O que acontece se eu não redefinir minha senha? O Login Social via Facebook ou Apple será descontinuado pela Hotmart e caso a senha não seja alterada, se você deslogar ou deletar o aplicativo, será necessário utilizar a opção \"Esqueci minha senha\", utilizando o mesmo email do seu Login Social, para continuar acessando o App. Por que isso está sendo feito? Após algumas análises, nossos especialistas perceberam que muitas vezes o email de compra do produto não é o mesmo da opção do login social. Ou seja, se você fizer uma compra na Hotmart utilizando um e-mail, e acessar o app da Hotmart pelo Login Social (com um email diferente) você conseguirá entrar no app mas não conseguirá encontrar os produtos que comprou. Criei uma nova senha para o app da Hotmart mas quero continuar podendo logar na plataforma Hotmart com o Facebook. Como fazer? Ao finalizar o processo de criação de senha no aplicativo será removido o vínculo da sua conta na Hotmart com o Facebook. Para retomar o acesso da sua conta Hotmart siga os passos: 1. Basta acessar a conta Hotmart utilizando o Facebook para recriar o vínculo e pronto! 2. Agora o app da Hotmart será acessado utilizando a senha previamente registrada e a conta Hotmart poderá ser acessada tanto pelo Login Social quanto pela nova senha\n",
      "================================================================================ \n",
      "\n",
      "================================================================================\n",
      "Pergunta: Existe algum benefício para quem paga à vista?\n",
      "Resposta: == Para ter acesso contínuo a seus produtos comprados por assinatura, é importante realizar todos os pagamentos em dia. Se você escolheu pagar as recorrências via PIX, mas acabou perdendo o prazo para realizar o pagamento, neste artigo te ensinaremos a gerar um novo código e restabelecer seu acesso. Para isso, basta seguir o passo a passo abaixo: 1. Acesse sua conta na Hotmart pelo link [https://consumer.hotmart.com](https://consumer.hotmart.com/). 2. Após fazer o login, selecione Minhas compras no menu à esquerda e clique em Mostrar detalhes do produto que deseja gerar um novo código PIX para pagamento. 3. Os detalhes da sua compra serão exibidos e você deverá clicar em Regularizar pagamentos pendentes (se estiver regularizado, irá aparecer a opção Configurar pagamento). 4. Na nova página, procure pela seção Ultimo pagamento e clique no botão em vermelho Regularizar pagamento. 5. Em seguida, clique em Pagar para gerar o novo código. 6. Para finalizar, copie o código PIX ou utiliza a câmera do seu dispositivo móvel no QR Code. Ao clicar neste botão, um e-mail será enviado para o e-mail cadastrado na sua conta da Hotmart com o código PIX gerado para realizar o pagamento. Lembre-se de verificar não só a caixa de entrada, mas também a de spam e lixo eletrônico. O código tem uma validade de 48 horas e você poderá realizar o pagamento dentro deste prazo. Mas, caso o código expire novamente, você deverá aguardar mais 24 horas após a expiração para gerar um novo código. Caso você deseje alterar o método de pagamento da sua assinatura, consulte [este artigo](https://help.hotmart.com/pt-br/article/115000393187) para mais informações.\n",
      "================================================================================ \n",
      "\n",
      "================================================================================\n",
      "Pergunta: A Hotmart oferece suporte para pagamentos via boleto parcelado?\n",
      "Resposta: As taxas de juros e condições de entrada podem variar de acordo com o comprador e dependem do perfil de risco calculado. Todas as taxas são calculadas instantaneamente, antes da finalização da compra. Em quantas vezes os clientes podem parcelar? O Parcelex pode ser utilizado para comprar em até 24 vezes, dependendo do valor do produto, e o comprador poderá simular os valores em tempo real antes de fechar o pagamento. Em alguns casos, será possível dar um valor de entrada, ou esse valor poderá ser pedido pelo Parcelex. As parcelas mostradas na tela antes de confirmar o pagamento terão sempre o mesmo valor, ou seja, não há variação no decorrer dos meses. O que é avaliado na verificação de crédito do comprador? O principal item de avaliação é o score de crédito, mas outras informações são avaliadas como inconsistência nos dados de contato como e-mail, telefone e endereço, por exemplo. Por esse motivo, é importante deixar claro para os compradores que esses dados devem ser os mesmos do dono do CPF. Como os boletos são enviados? Os compradores receberão acesso ao portal do Parcelex, onde poderão acompanhar seu financiamento, realizar pagamentos, negociar parcelas e mais. Os boletos também serão enviados mensalmente por email e/ou sms pelo Parcelex. Em quanto tempo o conteúdo será liberado? O conteúdo será liberado mediante a aprovação da documentação enviada e aprovação do pagamento da entrada, quando houver (lembrando que o prazo de reconhecimento do boleto pode ser de até 3 dias úteis). A Hotmart vai cobrar algum valor adicional? Não haverá nenhuma cobrança adicional, portanto o valor da taxa permanece padronizada. Como vai funcionar o saque da comissão? As comissões pelas vendas feitas com o Parcelex serão pagas integralmente em 30 dias. E o processo de reembolso? O comprador poderá solicitar reembolso através dos canais da Hotmart, desde que esteja dentro do prazo de garantia. O Parcelex será responsável por efetuar o processo de reembolso. Tenho um produto de assinatura. Posso oferecer o Parcelex? Neste primeiro momento, o financiamento Parcelex não está disponível para produtos de assinatura, evento presencial e online.\n",
      "================================================================================ \n",
      "\n",
      "================================================================================\n",
      "Pergunta: Quais são as opções para receber pagamentos em diferentes moedas?\n",
      "Resposta: Ao adquirir um produto de assinatura ou mediante um plano de Parcelamento Inteligente, você concorda com pagamentos recorrentes para continuar acessando seu produto. No entanto, para garantir o acesso, é fundamental efetuar o pagamento de acordo com a periodicidade estabelecida na oferta. Se, por algum motivo, [o pagamento não for concluído ou a transação não for aprovada](https://help.hotmart.com/pt-br/article/203456160), o acesso ao produto será bloqueado automaticamente. Entretanto, basta regularizar os pagamentos pendentes para recuperar o acesso. Neste artigo te ensinamos os passos necessários para reprocessar o pagamento diretamente da sua conta, proporcionando a você mais controle e autonomia nas suas compras. Para reprocessar seus pagamentos, siga as instruções abaixo: 1. Acesse o link ; 2. Após fazer o login, selecione Minhas compras no menu à esquerda; 3. Clique no produto para o qual você deseja regularizar os pagamentos; 4. Os detalhes da sua compra serão exibidos e você poderá selecionar a opção Atualizar pagamento; 5. Uma nova página será aberta com o gerenciamento da sua compra, onde se encontra a seção Histórico de pagamentos. Para reprocessar a última parcela, clique na seção Mostrar lista completa; 6. Por fim, clique nos três pontos vermelhos e, em seguida, clique em Fazer Pagamento (ou Gerar boleto, caso tenha optado pagar por boleto). Esse processo depende da validação de seu banco e pode levar algumas horas para ser concluído. Uma vez que o reprocessamento é identificado, nosso sistema automaticamente restaura seu acesso ao produto. No caso de falha no reprocessamento, recomendamos que entre em contato com seu banco para verificar o motivo pelo qual o pagamento não foi aceito. Se for identificado algum problema com o seu cartão, você pode alterá-lo seguindo as instruções fornecidas em nosso artigo [Como alterar o cartão de crédito cadastrado para pagamento da minha assinatura?](https://help.hotmart.com/pt-br/article/360038568172). E, em caso de querer mudar o método de pagamento registrado em sua assinatura, você pode consultar o artigo [Como alterar o método de pagamento da minha assinatura?](https://help.hotmart.com/pt-br/article/115000393187).\n",
      "================================================================================ \n",
      "\n"
     ]
    }
   ],
   "source": [
    "# Iterar sobre todas as perguntas de teste\n",
    "for query in test_questions_geracao_pura:\n",
    "    # Recuperar e processar resposta\n",
    "    final_response = process_response(query)\n",
    "    final_response = clean_response(final_response)\n",
    "\n",
    "    # Exibir resposta corrigida\n",
    "    print(\"=\"*80)\n",
    "    print(\"Pergunta:\", query)\n",
    "    print(\"Resposta:\", final_response)\n",
    "    print(\"=\"*80, \"\\n\")"
   ]
  },
  {
   "cell_type": "code",
   "execution_count": 31,
   "metadata": {},
   "outputs": [
    {
     "name": "stdout",
     "output_type": "stream",
     "text": [
      "================================================================================\n",
      "Pergunta: Qual a distância da Terra até a Lua?\n",
      "Resposta: Desculpe, essa pergunta parece estar fora do escopo da Hotmart.\n",
      "================================================================================ \n",
      "\n",
      "================================================================================\n",
      "Pergunta: Quem foi o primeiro presidente do Brasil?\n",
      "Resposta: Desculpe, essa pergunta parece estar fora do escopo da Hotmart.\n",
      "================================================================================ \n",
      "\n",
      "================================================================================\n",
      "Pergunta: Quem escreveu Dom Quixote?\n",
      "Resposta: Desculpe, essa pergunta parece estar fora do escopo da Hotmart.\n",
      "================================================================================ \n",
      "\n",
      "================================================================================\n",
      "Pergunta: Qual é a capital da Islândia?\n",
      "Resposta: Desculpe, essa pergunta parece estar fora do escopo da Hotmart.\n",
      "================================================================================ \n",
      "\n",
      "================================================================================\n",
      "Pergunta: Como posso aprender a tocar violão do zero?\n",
      "Resposta: Desculpe, essa pergunta parece estar fora do escopo da Hotmart.\n",
      "================================================================================ \n",
      "\n"
     ]
    }
   ],
   "source": [
    "# Iterar sobre todas as perguntas de teste\n",
    "for query in test_questions_geracao_pura_fora_do_contexto:\n",
    "    # Recuperar e processar resposta\n",
    "\n",
    "    final_response = process_response(query)\n",
    "    final_response = clean_response(final_response)\n",
    "\n",
    "    # Exibir resposta corrigida\n",
    "    print(\"=\"*80)\n",
    "    print(\"Pergunta:\", query)\n",
    "    print(\"Resposta:\", final_response)\n",
    "    print(\"=\"*80, \"\\n\")"
   ]
  },
  {
   "cell_type": "markdown",
   "metadata": {},
   "source": [
    "## Validação do modelo"
   ]
  },
  {
   "cell_type": "code",
   "execution_count": 32,
   "metadata": {},
   "outputs": [],
   "source": [
    "# Criar um dicionário onde o título do artigo ('article_name') é a chave e o conteúdo limpo do artigo ('clean_article_content') é o valor.\n",
    "# Isso permite uma busca eficiente das respostas da FAQ com base no título do artigo.\n",
    "respostas_faq = {row['article_name']: row['clean_article_content'] for _, row in df.iterrows()}\n",
    "\n",
    "# 🔹 Criar um dicionário consolidado para os testes de geração de respostas\n",
    "test_questions_generation = {\n",
    "                                # Para cada conjunto de perguntas de teste, busca a resposta correspondente na base de conhecimento (FAQ)\n",
    "                                # Se a pergunta não existir no dicionário 'respostas_faq', retorna \"Resposta não encontrada.\"\n",
    "                                **{q: respostas_faq.get(q, \"Resposta não encontrada.\") for q in test_questions_recuperacao_pura},\n",
    "                                **{q: respostas_faq.get(q, \"Resposta não encontrada.\") for q in test_questions_ajuste_generativo},\n",
    "                                **{q: respostas_faq.get(q, \"Resposta não encontrada.\") for q in test_questions_geracao_pura}\n",
    "                            }"
   ]
  },
  {
   "cell_type": "code",
   "execution_count": 55,
   "metadata": {},
   "outputs": [
    {
     "name": "stdout",
     "output_type": "stream",
     "text": [
      "\n",
      "*MÉDIAS GERAIS:*\n",
      "BLEU Médio: 0.5647\n",
      "ROUGE-L Médio: 0.5847\n"
     ]
    }
   ],
   "source": [
    "def evaluate_generation():\n",
    "    \n",
    "    # Listas para armazenar as métricas BLEU e ROUGE de cada resposta gerada\n",
    "    bleu_scores = []\n",
    "    rouge_scores = []\n",
    "    \n",
    "    # Itera sobre todas as perguntas de teste e suas respostas esperadas\n",
    "    for query, expected_response in test_questions_generation.items():\n",
    "        generated_response = process_response(query) # Obtém a resposta gerada pelo modelo\n",
    "\n",
    "        # Verifica se a resposta indica que a pergunta está fora do escopo\n",
    "        if \"Desculpe, essa pergunta parece estar fora do escopo da Hotmart.\" in generated_response:\n",
    "            continue  # Ignora perguntas fora do contexto ao calcular métricas\n",
    "\n",
    "        # Calcula a métrica BLEU (mede similaridade entre frases)\n",
    "        smoothing = SmoothingFunction().method1 # Suavização para evitar penalizações severas\n",
    "        bleu = sentence_bleu([expected_response.split()], generated_response.split(), \n",
    "                            weights=(0.5, 0.5, 0, 0), # Peso para medir bigramas (considera contexto)\n",
    "                            smoothing_function=smoothing)\n",
    "        bleu_scores.append(bleu)\n",
    "\n",
    "        # Calcula a métrica ROUGE-L (mede cobertura de palavras relevantes)\n",
    "        scorer = rouge_scorer.RougeScorer(['rouge1', 'rougeL'], use_stemmer=True)# Usa stemming para generalização\n",
    "        rouge = scorer.score(expected_response, generated_response)\n",
    "        rouge_scores.append(rouge['rougeL'].fmeasure) # Usa ROUGE-L F1-score como métrica principal\n",
    "\n",
    "    # Exibir apenas métricas finais\n",
    "    print(\"\\n*MÉDIAS GERAIS:*\")\n",
    "    if bleu_scores and rouge_scores:\n",
    "        print(f\"BLEU Médio: {np.mean(bleu_scores):.4f}\") # Exibe média de BLEU para todas as respostas\n",
    "        print(f\"ROUGE-L Médio: {np.mean(rouge_scores):.4f}\") # Exibe média de ROUGE-L para todas as respostas\n",
    "    else:\n",
    "        print(\"⚠️ Nenhuma métrica foi computada, pois todas as perguntas foram consideradas fora do escopo.\")\n",
    "\n",
    "# Rodar a avaliação\n",
    "evaluate_generation()"
   ]
  }
 ],
 "metadata": {
  "kernelspec": {
   "display_name": "Python 3",
   "language": "python",
   "name": "python3"
  },
  "language_info": {
   "codemirror_mode": {
    "name": "ipython",
    "version": 3
   },
   "file_extension": ".py",
   "mimetype": "text/x-python",
   "name": "python",
   "nbconvert_exporter": "python",
   "pygments_lexer": "ipython3",
   "version": "3.11.7"
  }
 },
 "nbformat": 4,
 "nbformat_minor": 2
}
